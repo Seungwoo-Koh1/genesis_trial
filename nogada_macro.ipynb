{
 "cells": [
  {
   "cell_type": "markdown",
   "metadata": {},
   "source": [
    "지피티 매크로 만들기_이민희"
   ]
  },
  {
   "cell_type": "markdown",
   "metadata": {},
   "source": [
    "gpt 창은 오른쪽에, 엑셀 창은 왼쪽에"
   ]
  },
  {
   "cell_type": "markdown",
   "metadata": {},
   "source": [
    "gpt창 100%  기준 "
   ]
  },
  {
   "cell_type": "code",
   "execution_count": 2,
   "metadata": {},
   "outputs": [],
   "source": [
    "import os\n",
    "import pyautogui\n",
    "import time\n",
    "import pyperclip"
   ]
  },
  {
   "cell_type": "code",
   "execution_count": null,
   "metadata": {},
   "outputs": [
    {
     "name": "stdout",
     "output_type": "stream",
     "text": [
      "새로 고침\n"
     ]
    }
   ],
   "source": [
    "#새로 고침\n",
    "print(\"새로 고침\")\n",
    "time.sleep(5)\n",
    "print(pyautogui.size()) \n",
    "print(pyautogui.position()) #마우스 위치 출력\n",
    "refreshPage = pyautogui.position()"
   ]
  },
  {
   "cell_type": "code",
   "execution_count": 3,
   "metadata": {},
   "outputs": [
    {
     "name": "stdout",
     "output_type": "stream",
     "text": [
      "first prompt select\n",
      "Size(width=3840, height=1600)\n",
      "Point(x=2715, y=802)\n"
     ]
    }
   ],
   "source": [
    "import pyautogui\n",
    "import time\n",
    "import pyperclip\n",
    "\n",
    "#first prompt select\n",
    "print(\"first prompt select\")\n",
    "time.sleep(5)\n",
    "print(pyautogui.size()) \n",
    "print(pyautogui.position()) #마우스 위치 출력\n",
    "firstPromptSelect = pyautogui.position()"
   ]
  },
  {
   "cell_type": "code",
   "execution_count": 4,
   "metadata": {},
   "outputs": [
    {
     "name": "stdout",
     "output_type": "stream",
     "text": [
      "first send question\n",
      "Size(width=3840, height=1600)\n",
      "Point(x=3493, y=862)\n"
     ]
    }
   ],
   "source": [
    "#first send question\n",
    "print(\"first send question\")\n",
    "time.sleep(5)\n",
    "print(pyautogui.size()) \n",
    "print(pyautogui.position()) #마우스 위치 출력\n",
    "firstSendQuestion = pyautogui.position()"
   ]
  },
  {
   "cell_type": "code",
   "execution_count": 5,
   "metadata": {},
   "outputs": [
    {
     "name": "stdout",
     "output_type": "stream",
     "text": [
      "first scroll\n",
      "Size(width=3840, height=1600)\n",
      "Point(x=3041, y=1342)\n"
     ]
    }
   ],
   "source": [
    "#first scroll\n",
    "print(\"first scroll\")\n",
    "time.sleep(5)\n",
    "print(pyautogui.size()) \n",
    "print(pyautogui.position()) #마우스 위치 출력\n",
    "firstScrollClick = pyautogui.position()"
   ]
  },
  {
   "cell_type": "code",
   "execution_count": null,
   "metadata": {},
   "outputs": [
    {
     "name": "stdout",
     "output_type": "stream",
     "text": [
      "파일 첨부\n",
      "Size(width=3840, height=1600)\n",
      "Point(x=2622, y=1478)\n"
     ]
    }
   ],
   "source": [
    "#마우스 위치 저장\n",
    "#파일 첨부\n",
    "print(\"파일 첨부\")\n",
    "time.sleep(5)\n",
    "print(pyautogui.size()) \n",
    "print(pyautogui.position()) #마우스 위치 출력\n",
    "fileAttach = pyautogui.position()"
   ]
  },
  {
   "cell_type": "code",
   "execution_count": null,
   "metadata": {},
   "outputs": [
    {
     "name": "stdout",
     "output_type": "stream",
     "text": [
      "메시지 창 선택\n",
      "Size(width=3840, height=1600)\n",
      "Point(x=2635, y=1420)\n"
     ]
    }
   ],
   "source": [
    "#메시지 창 선택\n",
    "print(\"메시지 창 선택\")\n",
    "time.sleep(5)\n",
    "print(pyautogui.size()) \n",
    "print(pyautogui.position()) #마우스 위치 출력\n",
    "promptSelect = pyautogui.position()"
   ]
  },
  {
   "cell_type": "code",
   "execution_count": null,
   "metadata": {},
   "outputs": [
    {
     "name": "stdout",
     "output_type": "stream",
     "text": [
      "컴퓨터에서 업로드\n",
      "Size(width=3840, height=1600)\n",
      "Point(x=2678, y=1420)\n"
     ]
    }
   ],
   "source": [
    "#컴퓨터에서 업로드\n",
    "print(\"컴퓨터에서 업로드\")\n",
    "time.sleep(5)\n",
    "print(pyautogui.size()) \n",
    "print(pyautogui.position()) #마우스 위치 출력\n",
    "computerSelect = pyautogui.position()"
   ]
  },
  {
   "cell_type": "code",
   "execution_count": 10,
   "metadata": {},
   "outputs": [
    {
     "name": "stdout",
     "output_type": "stream",
     "text": [
      "파일 선택\n",
      "Size(width=3840, height=1600)\n",
      "Point(x=2215, y=180)\n"
     ]
    }
   ],
   "source": [
    "# #파일 선택\n",
    "# print(\"파일 선택\")\n",
    "# time.sleep(5)\n",
    "# print(pyautogui.size()) \n",
    "# print(pyautogui.position()) #마우스 위치 출력\n",
    "# fileSelect = pyautogui.position()"
   ]
  },
  {
   "cell_type": "code",
   "execution_count": 11,
   "metadata": {},
   "outputs": [
    {
     "name": "stdout",
     "output_type": "stream",
     "text": [
      "파일 열기\n",
      "Size(width=3840, height=1600)\n",
      "Point(x=2933, y=761)\n"
     ]
    }
   ],
   "source": [
    "# #파일 열기\n",
    "# print(\"파일 열기\")\n",
    "# time.sleep(5)\n",
    "# print(pyautogui.size()) \n",
    "# print(pyautogui.position()) #마우스 위치 출력\n",
    "# fileOpen = pyautogui.position()"
   ]
  },
  {
   "cell_type": "code",
   "execution_count": null,
   "metadata": {},
   "outputs": [
    {
     "name": "stdout",
     "output_type": "stream",
     "text": [
      "질문 보내기\n",
      "Size(width=3840, height=1600)\n",
      "Point(x=3488, y=1469)\n"
     ]
    }
   ],
   "source": [
    "#질문 보내기 \n",
    "time.sleep(5)\n",
    "print(\"질문 보내기\")\n",
    "print(pyautogui.size()) \n",
    "print(pyautogui.position()) #마우스 위치 출력\n",
    "sendQuestion = pyautogui.position()"
   ]
  },
  {
   "cell_type": "code",
   "execution_count": null,
   "metadata": {},
   "outputs": [
    {
     "name": "stdout",
     "output_type": "stream",
     "text": [
      "스크롤\n",
      "Size(width=3840, height=1600)\n",
      "Point(x=3035, y=1346)\n"
     ]
    }
   ],
   "source": [
    "#스크롤\n",
    "print(\"스크롤\")\n",
    "time.sleep(5)\n",
    "print(pyautogui.size()) \n",
    "print(pyautogui.position()) #마우스 위치 출력\n",
    "scrollClick = pyautogui.position()\n"
   ]
  },
  {
   "cell_type": "code",
   "execution_count": null,
   "metadata": {},
   "outputs": [
    {
     "name": "stdout",
     "output_type": "stream",
     "text": [
      "답안 복사2\n",
      "Size(width=3840, height=1600)\n",
      "Point(x=2676, y=1238)\n"
     ]
    }
   ],
   "source": [
    "#답안 복사2\n",
    "print(\"답안 복사2\")\n",
    "time.sleep(5)\n",
    "print(pyautogui.size()) \n",
    "print(pyautogui.position()) #마우스 위치 출력\n",
    "copyAnswer2 = pyautogui.position()\n"
   ]
  },
  {
   "cell_type": "code",
   "execution_count": null,
   "metadata": {},
   "outputs": [
    {
     "name": "stdout",
     "output_type": "stream",
     "text": [
      "답안 복사\n",
      "Size(width=3840, height=1600)\n",
      "Point(x=2675, y=1280)\n"
     ]
    }
   ],
   "source": [
    "#답안 복사 \n",
    "print(\"답안 복사\")\n",
    "time.sleep(5)\n",
    "print(pyautogui.size()) \n",
    "print(pyautogui.position()) #마우스 위치 출력\n",
    "copyAnswer = pyautogui.position()\n"
   ]
  },
  {
   "cell_type": "code",
   "execution_count": 12,
   "metadata": {},
   "outputs": [
    {
     "name": "stdout",
     "output_type": "stream",
     "text": [
      "엑셀 탭 선택\n",
      "Size(width=3840, height=1600)\n",
      "Point(x=1557, y=20)\n"
     ]
    }
   ],
   "source": [
    "#엑셀 탭 선택\n",
    "print(\"엑셀 탭 선택\")\n",
    "time.sleep(5)\n",
    "print(pyautogui.size()) \n",
    "print(pyautogui.position()) #마우스 위치 출력\n",
    "selectExcelTab= pyautogui.position()"
   ]
  },
  {
   "cell_type": "code",
   "execution_count": 17,
   "metadata": {},
   "outputs": [
    {
     "name": "stdout",
     "output_type": "stream",
     "text": [
      "엑셀 열기\n",
      "Size(width=3840, height=1600)\n",
      "Point(x=164, y=276)\n"
     ]
    }
   ],
   "source": [
    "# #엑셀 열기\n",
    "# print(\"엑셀 열기\")\n",
    "# time.sleep(5)\n",
    "# print(pyautogui.size()) \n",
    "# print(pyautogui.position()) #마우스 위치 출력\n",
    "# openExcel = pyautogui.position()\n"
   ]
  },
  {
   "cell_type": "code",
   "execution_count": 18,
   "metadata": {},
   "outputs": [
    {
     "name": "stdout",
     "output_type": "stream",
     "text": [
      "셀 선택\n",
      "Size(width=3840, height=1600)\n",
      "Point(x=257, y=206)\n"
     ]
    }
   ],
   "source": [
    "# #셀 선택\n",
    "# print(\"셀 선택\")\n",
    "# time.sleep(5)\n",
    "# print(pyautogui.size()) \n",
    "# print(pyautogui.position()) #마우스 위치 출력\n",
    "# selectCell= pyautogui.position()"
   ]
  },
  {
   "cell_type": "code",
   "execution_count": 24,
   "metadata": {},
   "outputs": [
    {
     "name": "stdout",
     "output_type": "stream",
     "text": [
      "답안 붙여넣기\n",
      "Size(width=3000, height=2000)\n",
      "Point(x=1946, y=1626)\n"
     ]
    }
   ],
   "source": [
    "# #답안 붙여넣기\n",
    "# print(\"답안 붙여넣기\")\n",
    "# time.sleep(5)\n",
    "# print(pyautogui.size()) \n",
    "# print(pyautogui.position()) #마우스 위치 출력\n",
    "# pasteAnswer = pyautogui.position()"
   ]
  },
  {
   "cell_type": "code",
   "execution_count": 10,
   "metadata": {},
   "outputs": [
    {
     "name": "stdout",
     "output_type": "stream",
     "text": [
      "주소 입력\n",
      "Size(width=3840, height=1600)\n",
      "Point(x=3012, y=1380)\n"
     ]
    }
   ],
   "source": [
    "#주소 입력 \n",
    "print(\"주소 입력\")\n",
    "time.sleep(5)\n",
    "print(pyautogui.size()) \n",
    "print(pyautogui.position()) #마우스 위치 출력\n",
    "address = pyautogui.position()"
   ]
  },
  {
   "cell_type": "code",
   "execution_count": 21,
   "metadata": {},
   "outputs": [],
   "source": [
    "n = 1"
   ]
  },
  {
   "cell_type": "code",
   "execution_count": 40,
   "metadata": {},
   "outputs": [],
   "source": [
    "time.sleep(5)\n",
    "pyautogui.click(2494, 56, 3)\n",
    "pyautogui.press('backspace')\n",
    "pyautogui.typewrite('https://chatgpt.com/?model=gpt-4o')\n",
    "pyautogui.press('enter')"
   ]
  },
  {
   "cell_type": "code",
   "execution_count": 41,
   "metadata": {},
   "outputs": [],
   "source": [
    "pyautogui.click(2652, 854)\n",
    "pyautogui.click(2728, 972)\n",
    "time.sleep(2)\n",
    "pyautogui.typewrite(file_path)  # 파일 경로를 입력\n",
    "pyautogui.press('enter')\n",
    "time.sleep(7)"
   ]
  },
  {
   "cell_type": "code",
   "execution_count": 42,
   "metadata": {},
   "outputs": [],
   "source": [
    "pyautogui.click(2679, 843)\n",
    "pyautogui.typewrite('problem explanation')\n",
    "pyautogui.press('enter')\n",
    "time.sleep(10)\n",
    "pyautogui.click(3007, 1383)"
   ]
  },
  {
   "cell_type": "code",
   "execution_count": 43,
   "metadata": {},
   "outputs": [],
   "source": [
    "pyautogui.click(2706, 1449)\n",
    "pyautogui.typewrite('problem number, answer only')\n",
    "pyautogui.press('enter')\n",
    "time.sleep(5)"
   ]
  },
  {
   "cell_type": "code",
   "execution_count": 44,
   "metadata": {},
   "outputs": [],
   "source": [
    "pyautogui.click(2714, 1331)\n",
    "pyautogui.click(2710, 1307)"
   ]
  },
  {
   "cell_type": "code",
   "execution_count": 45,
   "metadata": {},
   "outputs": [],
   "source": [
    "pyautogui.click(1011, 35)\n",
    "pyautogui.hotkey('shift', 'enter')\n",
    "pyautogui.hotkey('ctrl', 'v')"
   ]
  },
  {
   "cell_type": "code",
   "execution_count": 1,
   "metadata": {},
   "outputs": [],
   "source": [
    "import os\n",
    "import pyautogui\n",
    "import time\n",
    "import pyperclip\n",
    "\n",
    "time.sleep(5)\n",
    "pyautogui.click(2494, 56, 3)\n",
    "pyautogui.hotkey('ctrl', 'a')\n",
    "pyautogui.press('delete')\n",
    "pyautogui.typewrite('https://chatgpt.com/?model=gpt-4o')\n",
    "pyautogui.press('enter')\n",
    "time.sleep(10)"
   ]
  },
  {
   "cell_type": "markdown",
   "metadata": {},
   "source": [
    "실행코드 file_name-> 시작 문제 번호호"
   ]
  },
  {
   "cell_type": "code",
   "execution_count": null,
   "metadata": {},
   "outputs": [],
   "source": []
  },
  {
   "cell_type": "code",
   "execution_count": 22,
   "metadata": {},
   "outputs": [
    {
     "name": "stdout",
     "output_type": "stream",
     "text": [
      "현재 작업 중인 파일: 45.png\n",
      "현재 작업 중인 파일: 46.png\n"
     ]
    },
    {
     "ename": "KeyboardInterrupt",
     "evalue": "",
     "output_type": "error",
     "traceback": [
      "\u001b[1;31m---------------------------------------------------------------------------\u001b[0m",
      "\u001b[1;31mKeyboardInterrupt\u001b[0m                         Traceback (most recent call last)",
      "Cell \u001b[1;32mIn[22], line 65\u001b[0m\n\u001b[0;32m     63\u001b[0m time\u001b[38;5;241m.\u001b[39msleep(\u001b[38;5;241m3\u001b[39m)\n\u001b[0;32m     64\u001b[0m pyautogui\u001b[38;5;241m.\u001b[39mpress(\u001b[38;5;124m'\u001b[39m\u001b[38;5;124menter\u001b[39m\u001b[38;5;124m'\u001b[39m)\n\u001b[1;32m---> 65\u001b[0m \u001b[43mtime\u001b[49m\u001b[38;5;241;43m.\u001b[39;49m\u001b[43msleep\u001b[49m\u001b[43m(\u001b[49m\u001b[38;5;241;43m20\u001b[39;49m\u001b[43m)\u001b[49m\n\u001b[0;32m     67\u001b[0m pyautogui\u001b[38;5;241m.\u001b[39mhotkey(\u001b[38;5;124m'\u001b[39m\u001b[38;5;124mshift\u001b[39m\u001b[38;5;124m'\u001b[39m, \u001b[38;5;124m'\u001b[39m\u001b[38;5;124mtab\u001b[39m\u001b[38;5;124m'\u001b[39m)\n\u001b[0;32m     68\u001b[0m time\u001b[38;5;241m.\u001b[39msleep(\u001b[38;5;241m1\u001b[39m)\n",
      "\u001b[1;31mKeyboardInterrupt\u001b[0m: "
     ]
    }
   ],
   "source": [
    "import os\n",
    "import pyautogui\n",
    "import time\n",
    "\n",
    "# 작업할 폴더 경로\n",
    "folder_path = \"C:/Users/user/Downloads/2024_10\"\n",
    "folder_path = os.path.normpath(folder_path)  # 경로 정규화\n",
    "\n",
    "# 파일 이름 초기화\n",
    "file_name = 45\n",
    "\n",
    "# 폴더 내 모든 파일에 대해 반복 작업\n",
    "while file_name <= 80:  # 1부터 80까지 반복\n",
    "    file_path = os.path.join(folder_path, f\"{file_name}.png\")  # 파일 경로 생성\n",
    "\n",
    "    if not os.path.isfile(file_path):  # 파일 존재 여부 확인\n",
    "        print(f\"파일 {file_name}.png이(가) 존재하지 않습니다. 작업을 종료합니다.\")\n",
    "        break\n",
    "\n",
    "    print(f\"현재 작업 중인 파일: {file_name}.png\")\n",
    "    \n",
    "    # PyAutoGUI로 특정 작업 수행\n",
    "    time.sleep(5)  # 작업 대기 시간\n",
    "    # pyautogui.click(2494, 56, clicks=1)  # 브라우저 URL 클릭\n",
    "    # pyautogui.hotkey('ctrl', 'a')  # 전체 선택\n",
    "    # pyautogui.press('delete')  # 삭제\n",
    "    # pyautogui.typewrite('https://chatgpt.com/?model=o1')\n",
    "    # pyautogui.press('enter')\n",
    "\n",
    "    pyautogui.hotkey('alt','left')\n",
    "    time.sleep(10)\n",
    "\n",
    "    pyautogui.typewrite('problem explanation of following image')\n",
    "\n",
    "    time.sleep(3)\n",
    "    pyautogui.press('tab')\n",
    "    time.sleep(1)\n",
    "    pyautogui.press('tab')  \n",
    "\n",
    "    pyautogui.press('enter')\n",
    "\n",
    "    time.sleep(3)\n",
    "    pyautogui.press('down')  # 드롭다운 선택\n",
    "    time.sleep(1)\n",
    "    pyautogui.press('down')  # 드롭다운 선택\n",
    "    pyautogui.press('enter')\n",
    "\n",
    "    time.sleep(3)\n",
    "    pyautogui.typewrite(file_path)  # 파일 경로를 입력\n",
    "    pyautogui.press('enter')\n",
    "    time.sleep(10)\n",
    "\n",
    "    pyautogui.press('tab')\n",
    "    time.sleep(1)\n",
    "    pyautogui.press('tab')\n",
    "    time.sleep(1)\n",
    "    pyautogui.press('tab')\n",
    "    pyautogui.press('enter')\n",
    "\n",
    "    time.sleep(60)\n",
    "    pyautogui.scroll(-10000)\n",
    "    pyautogui.typewrite('problem number, answer only, format\"(number, answer)\"')\n",
    "    time.sleep(3)\n",
    "    pyautogui.press('enter')\n",
    "    time.sleep(20)\n",
    "\n",
    "    pyautogui.hotkey('shift', 'tab')\n",
    "    time.sleep(1)\n",
    "    pyautogui.hotkey('shift', 'tab')\n",
    "    time.sleep(1)\n",
    "    pyautogui.press('enter')\n",
    "\n",
    "    time.sleep(3)\n",
    "    pyautogui.click(1011, 35)\n",
    "    pyautogui.hotkey('ctrl', 'v')\n",
    "    pyautogui.hotkey('shift', 'enter')\n",
    "    pyautogui.hotkey('alt','tab')\n",
    "\n",
    "    # 다음 파일로 넘어가기\n",
    "    file_name += 1\n",
    "\n",
    "print(\"모든 파일에 대해 작업이 완료되었습니다.\")\n"
   ]
  },
  {
   "cell_type": "code",
   "execution_count": null,
   "metadata": {},
   "outputs": [],
   "source": [
    "\n"
   ]
  },
  {
   "cell_type": "code",
   "execution_count": null,
   "metadata": {},
   "outputs": [],
   "source": []
  },
  {
   "cell_type": "code",
   "execution_count": null,
   "metadata": {},
   "outputs": [],
   "source": []
  },
  {
   "cell_type": "code",
   "execution_count": null,
   "metadata": {},
   "outputs": [],
   "source": []
  },
  {
   "cell_type": "code",
   "execution_count": null,
   "metadata": {},
   "outputs": [],
   "source": []
  },
  {
   "cell_type": "markdown",
   "metadata": {},
   "source": []
  },
  {
   "cell_type": "code",
   "execution_count": null,
   "metadata": {},
   "outputs": [],
   "source": []
  },
  {
   "cell_type": "code",
   "execution_count": 16,
   "metadata": {},
   "outputs": [
    {
     "name": "stdout",
     "output_type": "stream",
     "text": [
      "모든 파일에 대해 작업이 완료되었습니다.\n"
     ]
    }
   ],
   "source": [
    "#이게 최종****\n",
    "\n",
    "import os\n",
    "import pyautogui\n",
    "import time\n",
    "import pyperclip\n",
    "\n",
    "# 작업할 폴더 경로\n",
    "folder_path = \"C:/Users/user/Downloads/2024_10\"\n",
    "\n",
    "# 경로 정규화\n",
    "folder_path = os.path.normpath(folder_path)\n",
    "\n",
    "# 폴더 내 모든 파일에 대해 반복 작업\n",
    "for file_name in os.listdir(folder_path):\n",
    "    file_path = os.path.join(folder_path, file_name)\n",
    "    \n",
    "    # 파일이 실제 파일인지 확인 (폴더 제외)\n",
    "\n",
    "    if os.path.isfile(file_path):\n",
    "        # 초기화\n",
    "        time.sleep(5)\n",
    "        pyautogui.click(2494, 56, 3)\n",
    "        pyautogui.hotkey('ctrl', 'a')\n",
    "        pyautogui.press('delete')\n",
    "        pyautogui.typewrite('https://chatgpt.com/?model=gpt-4o')\n",
    "        pyautogui.press('enter')\n",
    "        time.sleep(10)\n",
    "\n",
    "\n",
    "        pyautogui.typewrite('problem explanation of following image')\n",
    "        time.sleep(3)\n",
    "        pyautogui.press('tab', presses=2)\n",
    "        pyautogui.press('enter')\n",
    "\n",
    "        time.sleep(3)\n",
    "        pyautogui.press('down')\n",
    "        time.sleep(1)\n",
    "        pyautogui.press('down')\n",
    "        pyautogui.press('enter')\n",
    "\n",
    "        time.sleep(3)\n",
    "        pyautogui.typewrite(file_path)  # 파일 경로를 입력\n",
    "        pyautogui.press('enter')\n",
    "        time.sleep(10)\n",
    "\n",
    "\n",
    "        pyautogui.press('tab', presses=3)\n",
    "        pyautogui.press('enter')\n",
    "\n",
    "        time.sleep(30)\n",
    "        pyautogui.scroll(-500)\n",
    "        pyautogui.typewrite('problem number, answer only')\n",
    "        time.sleep(3)\n",
    "        pyautogui.press('enter')\n",
    "        time.sleep(7)\n",
    "\n",
    "        pyautogui.hotkey('shift', 'tab')\n",
    "        time.sleep(1)\n",
    "        pyautogui.hotkey('shift', 'tab')\n",
    "        time.sleep(1)\n",
    "        pyautogui.hotkey('shift', 'tab')\n",
    "        time.sleep(1)\n",
    "        pyautogui.press('enter')\n",
    "\n",
    "        time.sleep(3)\n",
    "        pyautogui.click(1011, 35)\n",
    "        pyautogui.hotkey('shift', 'enter')\n",
    "        pyautogui.hotkey('ctrl', 'v')\n",
    "\n",
    "print(\"모든 파일에 대해 작업이 완료되었습니다.\")\n"
   ]
  },
  {
   "cell_type": "code",
   "execution_count": null,
   "metadata": {},
   "outputs": [],
   "source": []
  },
  {
   "cell_type": "markdown",
   "metadata": {},
   "source": []
  },
  {
   "cell_type": "code",
   "execution_count": null,
   "metadata": {},
   "outputs": [],
   "source": []
  },
  {
   "cell_type": "code",
   "execution_count": null,
   "metadata": {},
   "outputs": [],
   "source": [
    "import pyautogui\n",
    "import time\n",
    "import pyperclip\n",
    "\n",
    "pyautogui.click(refreshPage)\n",
    "time.sleep(5)\n",
    "pyautogui.click(firstPromptSelect)\n",
    "pyautogui.typewrite(\"write number 1 vertically 50 times\")\n",
    "pyautogui.click(firstSendQuestion)\n",
    "time.sleep(5)\n",
    "pyautogui.click(firstScrollClick)"
   ]
  },
  {
   "cell_type": "code",
   "execution_count": 26,
   "metadata": {},
   "outputs": [],
   "source": [
    "pyautogui.click(promptSelect)\n",
    "pyautogui.typewrite(\"only the question number, answer(number without circle), no description\")\n",
    "pyautogui.click(fileAttach)\n",
    "pyautogui.click(computerSelect)\n",
    "time.sleep(3)\n",
    "pyautogui.click(fileSelect)\n",
    "\n",
    "for _ in range(n):\n",
    "    pyautogui.press('down')\n",
    "\n",
    "pyautogui.click(fileOpen)\n",
    "time.sleep(3)\n",
    "pyautogui.click(sendQuestion)\n",
    "time.sleep(10)\n",
    "pyautogui.click(scrollClick)\n",
    "pyautogui.click(copyAnswer)\n",
    "\n"
   ]
  },
  {
   "cell_type": "code",
   "execution_count": 29,
   "metadata": {},
   "outputs": [],
   "source": [
    "pyautogui.click(selectExcelTab)\n",
    "time.sleep(1)\n",
    "pyautogui.press('enter')\n",
    "text = pyperclip.paste()\n",
    "pyautogui.write(text)"
   ]
  },
  {
   "cell_type": "code",
   "execution_count": 109,
   "metadata": {},
   "outputs": [],
   "source": [
    "n+=1"
   ]
  },
  {
   "cell_type": "code",
   "execution_count": 104,
   "metadata": {},
   "outputs": [
    {
     "name": "stdout",
     "output_type": "stream",
     "text": [
      "1\n"
     ]
    }
   ],
   "source": [
    "print(n)"
   ]
  },
  {
   "cell_type": "code",
   "execution_count": null,
   "metadata": {},
   "outputs": [
    {
     "ename": "KeyboardInterrupt",
     "evalue": "",
     "output_type": "error",
     "traceback": [
      "\u001b[1;31m---------------------------------------------------------------------------\u001b[0m",
      "\u001b[1;31mKeyboardInterrupt\u001b[0m                         Traceback (most recent call last)",
      "Cell \u001b[1;32mIn[29], line 9\u001b[0m\n\u001b[0;32m      7\u001b[0m pyautogui\u001b[38;5;241m.\u001b[39mtypewrite(\u001b[38;5;124m\"\u001b[39m\u001b[38;5;124mwrite number 1 vertically 50 times\u001b[39m\u001b[38;5;124m\"\u001b[39m)\n\u001b[0;32m      8\u001b[0m pyautogui\u001b[38;5;241m.\u001b[39mclick(firstSendQuestion)\n\u001b[1;32m----> 9\u001b[0m \u001b[43mtime\u001b[49m\u001b[38;5;241;43m.\u001b[39;49m\u001b[43msleep\u001b[49m\u001b[43m(\u001b[49m\u001b[38;5;241;43m5\u001b[39;49m\u001b[43m)\u001b[49m\n\u001b[0;32m     10\u001b[0m pyautogui\u001b[38;5;241m.\u001b[39mclick(firstScrollClick)\n\u001b[0;32m     11\u001b[0m time\u001b[38;5;241m.\u001b[39msleep(\u001b[38;5;241m5\u001b[39m)\n",
      "\u001b[1;31mKeyboardInterrupt\u001b[0m: "
     ]
    }
   ],
   "source": [
    "for n in range(2):\n",
    "    #초기화\n",
    "    time.sleep(5)\n",
    "    pyautogui.click(refreshPage)\n",
    "    time.sleep(5)\n",
    "    pyautogui.click(firstPromptSelect)\n",
    "    pyautogui.typewrite(\"write number 1 vertically 50 times\")\n",
    "    pyautogui.click(firstSendQuestion)\n",
    "    time.sleep(5)\n",
    "    pyautogui.click(firstScrollClick)\n",
    "    time.sleep(5)\n",
    "\n",
    "    pyautogui.click(promptSelect)\n",
    "    pyautogui.typewrite(\"only the question number, answer(number without circle), no description\")\n",
    "    pyautogui.click(fileAttach)\n",
    "    pyautogui.click(computerSelect)\n",
    "    time.sleep(3)\n",
    "    pyautogui.click(fileSelect)\n",
    "\n",
    "    for _ in range(n):\n",
    "        pyautogui.press('down')\n",
    "\n",
    "    pyautogui.click(fileOpen)\n",
    "    time.sleep(3)\n",
    "    pyautogui.click(sendQuestion)\n",
    "    time.sleep(10)\n",
    "    pyautogui.click(scrollClick)\n",
    "    pyautogui.click(copyAnswer)\n",
    "    pyautogui.click(copyAnswer2)\n",
    "\n",
    "    pyautogui.click(selectExcelTab)\n",
    "    time.sleep(1)\n",
    "    pyautogui.press('enter')\n",
    "    text = pyperclip.paste()\n",
    "    pyautogui.write(text)"
   ]
  },
  {
   "cell_type": "code",
   "execution_count": 42,
   "metadata": {},
   "outputs": [],
   "source": [
    "pyautogui.click(selectExcelTab)\n",
    "time.sleep(1)\n",
    "pyautogui.press('enter')\n",
    "text = pyperclip.paste()\n",
    "pyautogui.write(text)"
   ]
  },
  {
   "cell_type": "code",
   "execution_count": null,
   "metadata": {},
   "outputs": [],
   "source": [
    "# #파일첨부위치\n",
    "# #Size(width=3000, height=2000)\n",
    "# #Point(x=1622, y=1772)\n",
    "# pyautogui.leftclick(1622, 1722)\n",
    "\n",
    "# #답안보내기 클릭\n",
    "# pyautogui.leftclick(1622, 1722)\n",
    "\n",
    "\n",
    "# #스크롤\n",
    "# pyautogui.scroll(-500) \n",
    "\n",
    "# #답안복사 위치 출력\n",
    "# #Size(width=3000, height=2000)\n",
    "# #Point(x=1672, y=1501)\n",
    "# pyautogui.leftclick(100, 100, 3, 3)\n",
    "\n",
    "# #새로고침 위치 출력\n",
    "# #Size(width=3000, height=2000)\n",
    "# #Point(x=1709, y=140)\n",
    "# pyautogui.leftclick(100, 100, 3, 3)"
   ]
  },
  {
   "cell_type": "code",
   "execution_count": null,
   "metadata": {},
   "outputs": [
    {
     "name": "stdout",
     "output_type": "stream",
     "text": [
      "Size(width=3000, height=2000)\n",
      "Point(x=2911, y=1755)\n"
     ]
    }
   ],
   "source": [
    "# import pyautogui\n",
    "# import time\n",
    "\n",
    "# #질문 보내기 위치 출력\n",
    "# time.sleep(5)\n",
    "# print(pyautogui.size()) \n",
    "# print(pyautogui.position()) #마우스 위치 출력\n",
    "\n",
    "# question_click = pyautogui.position()\n",
    "\n",
    "# time.sleep(5)\n",
    "# pyautogui.click(question_click)\n",
    "\n",
    "\n",
    "# #Size(width=3000, height=2000)\n",
    "# #Point(x=2917, y=1766)"
   ]
  },
  {
   "cell_type": "code",
   "execution_count": 7,
   "metadata": {},
   "outputs": [
    {
     "name": "stdout",
     "output_type": "stream",
     "text": [
      "Size(width=3000, height=2000)\n",
      "Point(x=1622, y=1772)\n"
     ]
    }
   ],
   "source": [
    "# import pyautogui\n",
    "# import time\n",
    "\n",
    "# #파일첨부 위치 출력\n",
    "# time.sleep(5)\n",
    "# print(pyautogui.size()) \n",
    "# print(pyautogui.position()) #마우스 위치 출력\n",
    "\n",
    "# #Size(width=3000, height=2000)\n",
    "#Point(x=1622, y=1772)"
   ]
  },
  {
   "cell_type": "code",
   "execution_count": 8,
   "metadata": {},
   "outputs": [
    {
     "name": "stdout",
     "output_type": "stream",
     "text": [
      "Size(width=3000, height=2000)\n",
      "Point(x=1709, y=140)\n"
     ]
    }
   ],
   "source": [
    "# import pyautogui\n",
    "# import time\n",
    "\n",
    "# #새로고침 위치 출력\n",
    "# time.sleep(5)\n",
    "# print(pyautogui.size()) \n",
    "# print(pyautogui.position()) #마우스 위치 출력\n",
    "\n",
    "# #Size(width=3000, height=2000)\n",
    "# #Point(x=1709, y=140)\n"
   ]
  },
  {
   "cell_type": "code",
   "execution_count": 9,
   "metadata": {},
   "outputs": [
    {
     "name": "stdout",
     "output_type": "stream",
     "text": [
      "Size(width=3000, height=2000)\n",
      "Point(x=1672, y=1501)\n"
     ]
    }
   ],
   "source": [
    "# import pyautogui\n",
    "# import time\n",
    "\n",
    "# #답안복사 위치 출력\n",
    "# time.sleep(5)\n",
    "# print(pyautogui.size()) \n",
    "# print(pyautogui.position()) #마우스 위치 출력\n",
    "\n",
    "# #Size(width=3000, height=2000)\n",
    "# #Point(x=1672, y=1501)"
   ]
  },
  {
   "cell_type": "code",
   "execution_count": 2,
   "metadata": {},
   "outputs": [],
   "source": [
    "# pyautogui.moveTo(100, 100) #절대 위치\n",
    "# pyautogui.moveTo(100, 100) #상대 위치"
   ]
  },
  {
   "cell_type": "code",
   "execution_count": null,
   "metadata": {},
   "outputs": [],
   "source": [
    "# pyautogui.leftclick(100, 100, 3, 3) #100,100 에서 왼쪽 클릭을 3번 3초간 수행\n",
    "# pyautogui.scroll(-500) #스크롤 다운, 업 일경우는 양수"
   ]
  },
  {
   "cell_type": "code",
   "execution_count": null,
   "metadata": {},
   "outputs": [],
   "source": [
    "# pyautogui.mouseUp(100, 100, button=\"left\") #드래그 하는 역할\n",
    "# pyautogui.mouseDown(100, 100, button=\"left\")"
   ]
  }
 ],
 "metadata": {
  "kernelspec": {
   "display_name": "qcrop_macro",
   "language": "python",
   "name": "python3"
  },
  "language_info": {
   "codemirror_mode": {
    "name": "ipython",
    "version": 3
   },
   "file_extension": ".py",
   "mimetype": "text/x-python",
   "name": "python",
   "nbconvert_exporter": "python",
   "pygments_lexer": "ipython3",
   "version": "3.11.11"
  }
 },
 "nbformat": 4,
 "nbformat_minor": 2
}
