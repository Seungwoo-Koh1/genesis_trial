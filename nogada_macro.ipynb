{
 "cells": [
  {
   "cell_type": "markdown",
   "metadata": {},
   "source": [
    "지피티 매크로 만들기_이민희"
   ]
  },
  {
   "cell_type": "markdown",
   "metadata": {},
   "source": [
    "gpt 창은 오른쪽에, 엑셀 창은 왼쪽에"
   ]
  },
  {
   "cell_type": "code",
   "execution_count": 18,
   "metadata": {},
   "outputs": [
    {
     "name": "stdout",
     "output_type": "stream",
     "text": [
      "새로 고침\n",
      "Size(width=3840, height=1600)\n",
      "Point(x=2145, y=153)\n"
     ]
    }
   ],
   "source": [
    "#새로 고침\n",
    "print(\"새로 고침\")\n",
    "time.sleep(5)\n",
    "print(pyautogui.size()) \n",
    "print(pyautogui.position()) #마우스 위치 출력\n",
    "refreshPage = pyautogui.position()"
   ]
  },
  {
   "cell_type": "code",
   "execution_count": null,
   "metadata": {},
   "outputs": [
    {
     "name": "stdout",
     "output_type": "stream",
     "text": [
      "first prompt select\n",
      "Size(width=3840, height=1600)\n",
      "Point(x=2679, y=805)\n"
     ]
    }
   ],
   "source": [
    "import pyautogui\n",
    "import time\n",
    "import pyperclip\n",
    "\n",
    "#first prompt select\n",
    "print(\"first prompt select\")\n",
    "time.sleep(5)\n",
    "print(pyautogui.size()) \n",
    "print(pyautogui.position()) #마우스 위치 출력\n",
    "firstPromptSelect = pyautogui.position()"
   ]
  },
  {
   "cell_type": "code",
   "execution_count": 3,
   "metadata": {},
   "outputs": [
    {
     "name": "stdout",
     "output_type": "stream",
     "text": [
      "first send question\n",
      "Size(width=3840, height=1600)\n",
      "Point(x=3371, y=857)\n"
     ]
    }
   ],
   "source": [
    "#first send question\n",
    "print(\"first send question\")\n",
    "time.sleep(5)\n",
    "print(pyautogui.size()) \n",
    "print(pyautogui.position()) #마우스 위치 출력\n",
    "firstSendQuestion = pyautogui.position()"
   ]
  },
  {
   "cell_type": "code",
   "execution_count": 14,
   "metadata": {},
   "outputs": [
    {
     "name": "stdout",
     "output_type": "stream",
     "text": [
      "first scroll\n",
      "Size(width=3840, height=1600)\n",
      "Point(x=3006, y=1380)\n"
     ]
    }
   ],
   "source": [
    "#first scroll\n",
    "print(\"first scroll\")\n",
    "time.sleep(5)\n",
    "print(pyautogui.size()) \n",
    "print(pyautogui.position()) #마우스 위치 출력\n",
    "firstScrollClick = pyautogui.position()"
   ]
  },
  {
   "cell_type": "code",
   "execution_count": 4,
   "metadata": {},
   "outputs": [
    {
     "name": "stdout",
     "output_type": "stream",
     "text": [
      "파일 첨부\n",
      "Size(width=3840, height=1600)\n",
      "Point(x=2675, y=1495)\n"
     ]
    }
   ],
   "source": [
    "#마우스 위치 저장\n",
    "#파일 첨부\n",
    "print(\"파일 첨부\")\n",
    "time.sleep(5)\n",
    "print(pyautogui.size()) \n",
    "print(pyautogui.position()) #마우스 위치 출력\n",
    "fileAttach = pyautogui.position()"
   ]
  },
  {
   "cell_type": "code",
   "execution_count": 8,
   "metadata": {},
   "outputs": [
    {
     "name": "stdout",
     "output_type": "stream",
     "text": [
      "메시지 창 선택\n",
      "Size(width=3840, height=1600)\n",
      "Point(x=2743, y=1450)\n"
     ]
    }
   ],
   "source": [
    "#메시지 창 선택\n",
    "print(\"메시지 창 선택\")\n",
    "time.sleep(5)\n",
    "print(pyautogui.size()) \n",
    "print(pyautogui.position()) #마우스 위치 출력\n",
    "promptSelect = pyautogui.position()"
   ]
  },
  {
   "cell_type": "code",
   "execution_count": 5,
   "metadata": {},
   "outputs": [
    {
     "name": "stdout",
     "output_type": "stream",
     "text": [
      "컴퓨터에서 업로드\n",
      "Size(width=3840, height=1600)\n",
      "Point(x=2800, y=1447)\n"
     ]
    }
   ],
   "source": [
    "#컴퓨터에서 업로드\n",
    "print(\"컴퓨터에서 업로드\")\n",
    "time.sleep(5)\n",
    "print(pyautogui.size()) \n",
    "print(pyautogui.position()) #마우스 위치 출력\n",
    "computerSelect = pyautogui.position()"
   ]
  },
  {
   "cell_type": "code",
   "execution_count": 6,
   "metadata": {},
   "outputs": [
    {
     "name": "stdout",
     "output_type": "stream",
     "text": [
      "파일 선택\n",
      "Size(width=3840, height=1600)\n",
      "Point(x=2282, y=191)\n"
     ]
    }
   ],
   "source": [
    "#파일 선택\n",
    "print(\"파일 선택\")\n",
    "time.sleep(5)\n",
    "print(pyautogui.size()) \n",
    "print(pyautogui.position()) #마우스 위치 출력\n",
    "fileSelect = pyautogui.position()"
   ]
  },
  {
   "cell_type": "code",
   "execution_count": 7,
   "metadata": {},
   "outputs": [
    {
     "name": "stdout",
     "output_type": "stream",
     "text": [
      "파일 열기\n",
      "Size(width=3840, height=1600)\n",
      "Point(x=2948, y=760)\n"
     ]
    }
   ],
   "source": [
    "#파일 열기\n",
    "print(\"파일 열기\")\n",
    "time.sleep(5)\n",
    "print(pyautogui.size()) \n",
    "print(pyautogui.position()) #마우스 위치 출력\n",
    "fileOpen = pyautogui.position()"
   ]
  },
  {
   "cell_type": "code",
   "execution_count": 15,
   "metadata": {},
   "outputs": [
    {
     "name": "stdout",
     "output_type": "stream",
     "text": [
      "질문 보내기\n",
      "Size(width=3840, height=1600)\n",
      "Point(x=3368, y=1485)\n"
     ]
    }
   ],
   "source": [
    "#질문 보내기 \n",
    "time.sleep(5)\n",
    "print(\"질문 보내기\")\n",
    "print(pyautogui.size()) \n",
    "print(pyautogui.position()) #마우스 위치 출력\n",
    "sendQuestion = pyautogui.position()"
   ]
  },
  {
   "cell_type": "code",
   "execution_count": null,
   "metadata": {},
   "outputs": [
    {
     "name": "stdout",
     "output_type": "stream",
     "text": [
      "스크롤\n",
      "Size(width=3840, height=1600)\n",
      "Point(x=2993, y=1389)\n"
     ]
    }
   ],
   "source": [
    "#스크롤\n",
    "print(\"스크롤\")\n",
    "time.sleep(10)\n",
    "print(pyautogui.size()) \n",
    "print(pyautogui.position()) #마우스 위치 출력\n",
    "scrollClick = pyautogui.position()\n"
   ]
  },
  {
   "cell_type": "code",
   "execution_count": 17,
   "metadata": {},
   "outputs": [
    {
     "name": "stdout",
     "output_type": "stream",
     "text": [
      "답안 복사\n",
      "Size(width=3840, height=1600)\n",
      "Point(x=2711, y=1332)\n"
     ]
    }
   ],
   "source": [
    "#답안 복사 \n",
    "print(\"답안 복사\")\n",
    "time.sleep(5)\n",
    "print(pyautogui.size()) \n",
    "print(pyautogui.position()) #마우스 위치 출력\n",
    "copyAnswer = pyautogui.position()\n"
   ]
  },
  {
   "cell_type": "code",
   "execution_count": 19,
   "metadata": {},
   "outputs": [
    {
     "name": "stdout",
     "output_type": "stream",
     "text": [
      "엑셀 탭 선택\n",
      "Size(width=3840, height=1600)\n",
      "Point(x=1234, y=34)\n"
     ]
    }
   ],
   "source": [
    "#엑셀 탭 선택\n",
    "print(\"엑셀 탭 선택\")\n",
    "time.sleep(5)\n",
    "print(pyautogui.size()) \n",
    "print(pyautogui.position()) #마우스 위치 출력\n",
    "selectExcelTab= pyautogui.position()"
   ]
  },
  {
   "cell_type": "code",
   "execution_count": 20,
   "metadata": {},
   "outputs": [
    {
     "name": "stdout",
     "output_type": "stream",
     "text": [
      "엑셀 열기\n",
      "Size(width=3840, height=1600)\n",
      "Point(x=227, y=280)\n"
     ]
    }
   ],
   "source": [
    "#엑셀 열기\n",
    "print(\"엑셀 열기\")\n",
    "time.sleep(5)\n",
    "print(pyautogui.size()) \n",
    "print(pyautogui.position()) #마우스 위치 출력\n",
    "openExcel = pyautogui.position()\n"
   ]
  },
  {
   "cell_type": "code",
   "execution_count": 21,
   "metadata": {},
   "outputs": [
    {
     "name": "stdout",
     "output_type": "stream",
     "text": [
      "셀 선택\n",
      "Size(width=3840, height=1600)\n",
      "Point(x=308, y=204)\n"
     ]
    }
   ],
   "source": [
    "#셀 선택\n",
    "print(\"셀 선택\")\n",
    "time.sleep(5)\n",
    "print(pyautogui.size()) \n",
    "print(pyautogui.position()) #마우스 위치 출력\n",
    "selectCell= pyautogui.position()"
   ]
  },
  {
   "cell_type": "code",
   "execution_count": 24,
   "metadata": {},
   "outputs": [
    {
     "name": "stdout",
     "output_type": "stream",
     "text": [
      "답안 붙여넣기\n",
      "Size(width=3000, height=2000)\n",
      "Point(x=1946, y=1626)\n"
     ]
    }
   ],
   "source": [
    "# #답안 붙여넣기\n",
    "# print(\"답안 붙여넣기\")\n",
    "# time.sleep(5)\n",
    "# print(pyautogui.size()) \n",
    "# print(pyautogui.position()) #마우스 위치 출력\n",
    "# pasteAnswer = pyautogui.position()"
   ]
  },
  {
   "cell_type": "code",
   "execution_count": 24,
   "metadata": {},
   "outputs": [],
   "source": [
    "n = 1"
   ]
  },
  {
   "cell_type": "code",
   "execution_count": 22,
   "metadata": {},
   "outputs": [],
   "source": [
    "pyautogui.click(refreshPage)\n",
    "time.sleep(5)\n",
    "pyautogui.click(firstPromptSelect)\n",
    "pyautogui.typewrite(\"write number 1 vertically 50 times\")\n",
    "pyautogui.click(firstSendQuestion)\n",
    "time.sleep(5)\n",
    "pyautogui.click(firstScrollClick)"
   ]
  },
  {
   "cell_type": "code",
   "execution_count": 25,
   "metadata": {},
   "outputs": [],
   "source": [
    "pyautogui.click(promptSelect)\n",
    "pyautogui.typewrite(\"only the question number, answer(number without circle), no description\")\n",
    "pyautogui.click(fileAttach)\n",
    "pyautogui.click(computerSelect)\n",
    "time.sleep(3)\n",
    "pyautogui.click(fileSelect)\n",
    "\n",
    "for _ in range(n):\n",
    "    pyautogui.press('down')\n",
    "\n",
    "pyautogui.click(fileOpen)\n",
    "time.sleep(3)\n",
    "pyautogui.click(sendQuestion)\n",
    "time.sleep(10)\n",
    "pyautogui.click(scrollClick)\n",
    "pyautogui.click(copyAnswer)\n",
    "\n"
   ]
  },
  {
   "cell_type": "code",
   "execution_count": 26,
   "metadata": {},
   "outputs": [],
   "source": [
    "pyautogui.click(selectExcelTab)\n",
    "time.sleep(1)\n",
    "pyautogui.click(openExcel)\n",
    "time.sleep(5)\n",
    "\n",
    "for _ in range(n):\n",
    "    pyautogui.press('down')\n",
    "    time.sleep(1)\n",
    "    \n",
    "text = pyperclip.paste()\n",
    "pyautogui.doubleClick(selectCell)\n",
    "time.sleep(3)\n",
    "pyautogui.write(text)"
   ]
  },
  {
   "cell_type": "code",
   "execution_count": 109,
   "metadata": {},
   "outputs": [],
   "source": [
    "n+=1"
   ]
  },
  {
   "cell_type": "code",
   "execution_count": 104,
   "metadata": {},
   "outputs": [
    {
     "name": "stdout",
     "output_type": "stream",
     "text": [
      "1\n"
     ]
    }
   ],
   "source": [
    "print(n)"
   ]
  },
  {
   "cell_type": "code",
   "execution_count": null,
   "metadata": {},
   "outputs": [
    {
     "ename": "KeyboardInterrupt",
     "evalue": "",
     "output_type": "error",
     "traceback": [
      "\u001b[1;31m---------------------------------------------------------------------------\u001b[0m",
      "\u001b[1;31mKeyboardInterrupt\u001b[0m                         Traceback (most recent call last)",
      "Cell \u001b[1;32mIn[29], line 9\u001b[0m\n\u001b[0;32m      7\u001b[0m pyautogui\u001b[38;5;241m.\u001b[39mtypewrite(\u001b[38;5;124m\"\u001b[39m\u001b[38;5;124mwrite number 1 vertically 50 times\u001b[39m\u001b[38;5;124m\"\u001b[39m)\n\u001b[0;32m      8\u001b[0m pyautogui\u001b[38;5;241m.\u001b[39mclick(firstSendQuestion)\n\u001b[1;32m----> 9\u001b[0m \u001b[43mtime\u001b[49m\u001b[38;5;241;43m.\u001b[39;49m\u001b[43msleep\u001b[49m\u001b[43m(\u001b[49m\u001b[38;5;241;43m5\u001b[39;49m\u001b[43m)\u001b[49m\n\u001b[0;32m     10\u001b[0m pyautogui\u001b[38;5;241m.\u001b[39mclick(firstScrollClick)\n\u001b[0;32m     11\u001b[0m time\u001b[38;5;241m.\u001b[39msleep(\u001b[38;5;241m5\u001b[39m)\n",
      "\u001b[1;31mKeyboardInterrupt\u001b[0m: "
     ]
    }
   ],
   "source": [
    "for n in range(2):\n",
    "    pyautogui.click(refreshPage)\n",
    "    time.sleep(5)\n",
    "    pyautogui.click(firstPromptSelect)\n",
    "    pyautogui.typewrite(\"write number 1 vertically 50 times\")\n",
    "    pyautogui.click(firstSendQuestion)\n",
    "    time.sleep(5)\n",
    "    pyautogui.click(firstScrollClick)\n",
    "    time.sleep(5)\n",
    "\n",
    "    pyautogui.click(promptSelect)\n",
    "    pyautogui.typewrite(\"only the question number, answer(number without circle), no description\")\n",
    "    pyautogui.click(fileAttach)\n",
    "    pyautogui.click(computerSelect)\n",
    "    time.sleep(3)\n",
    "    pyautogui.click(fileSelect)\n",
    "\n",
    "    for _ in range(n):\n",
    "        pyautogui.press('down')\n",
    "\n",
    "    pyautogui.click(fileOpen)\n",
    "    time.sleep(3)\n",
    "    pyautogui.click(sendQuestion)\n",
    "    time.sleep(10)\n",
    "    pyautogui.click(scrollClick)\n",
    "    pyautogui.click(copyAnswer)\n",
    "\n",
    "    pyautogui.click(selectExcelTab)\n",
    "    time.sleep(1)\n",
    "    pyautogui.click(openExcel)\n",
    "    time.sleep(5)\n",
    "\n",
    "    for _ in range(n):\n",
    "        pyautogui.press('down')\n",
    "        time.sleep(1)\n",
    "        \n",
    "    text = pyperclip.paste()\n",
    "    pyautogui.doubleClick(selectCell)\n",
    "    time.sleep(3)\n",
    "    pyautogui.write(text)"
   ]
  },
  {
   "cell_type": "code",
   "execution_count": null,
   "metadata": {},
   "outputs": [],
   "source": [
    "# #파일첨부위치\n",
    "# #Size(width=3000, height=2000)\n",
    "# #Point(x=1622, y=1772)\n",
    "# pyautogui.leftclick(1622, 1722)\n",
    "\n",
    "# #답안보내기 클릭\n",
    "# pyautogui.leftclick(1622, 1722)\n",
    "\n",
    "\n",
    "# #스크롤\n",
    "# pyautogui.scroll(-500) \n",
    "\n",
    "# #답안복사 위치 출력\n",
    "# #Size(width=3000, height=2000)\n",
    "# #Point(x=1672, y=1501)\n",
    "# pyautogui.leftclick(100, 100, 3, 3)\n",
    "\n",
    "# #새로고침 위치 출력\n",
    "# #Size(width=3000, height=2000)\n",
    "# #Point(x=1709, y=140)\n",
    "# pyautogui.leftclick(100, 100, 3, 3)"
   ]
  },
  {
   "cell_type": "code",
   "execution_count": null,
   "metadata": {},
   "outputs": [
    {
     "name": "stdout",
     "output_type": "stream",
     "text": [
      "Size(width=3000, height=2000)\n",
      "Point(x=2911, y=1755)\n"
     ]
    }
   ],
   "source": [
    "# import pyautogui\n",
    "# import time\n",
    "\n",
    "# #질문 보내기 위치 출력\n",
    "# time.sleep(5)\n",
    "# print(pyautogui.size()) \n",
    "# print(pyautogui.position()) #마우스 위치 출력\n",
    "\n",
    "# question_click = pyautogui.position()\n",
    "\n",
    "# time.sleep(5)\n",
    "# pyautogui.click(question_click)\n",
    "\n",
    "\n",
    "# #Size(width=3000, height=2000)\n",
    "# #Point(x=2917, y=1766)"
   ]
  },
  {
   "cell_type": "code",
   "execution_count": 7,
   "metadata": {},
   "outputs": [
    {
     "name": "stdout",
     "output_type": "stream",
     "text": [
      "Size(width=3000, height=2000)\n",
      "Point(x=1622, y=1772)\n"
     ]
    }
   ],
   "source": [
    "# import pyautogui\n",
    "# import time\n",
    "\n",
    "# #파일첨부 위치 출력\n",
    "# time.sleep(5)\n",
    "# print(pyautogui.size()) \n",
    "# print(pyautogui.position()) #마우스 위치 출력\n",
    "\n",
    "# #Size(width=3000, height=2000)\n",
    "#Point(x=1622, y=1772)"
   ]
  },
  {
   "cell_type": "code",
   "execution_count": 8,
   "metadata": {},
   "outputs": [
    {
     "name": "stdout",
     "output_type": "stream",
     "text": [
      "Size(width=3000, height=2000)\n",
      "Point(x=1709, y=140)\n"
     ]
    }
   ],
   "source": [
    "# import pyautogui\n",
    "# import time\n",
    "\n",
    "# #새로고침 위치 출력\n",
    "# time.sleep(5)\n",
    "# print(pyautogui.size()) \n",
    "# print(pyautogui.position()) #마우스 위치 출력\n",
    "\n",
    "# #Size(width=3000, height=2000)\n",
    "# #Point(x=1709, y=140)\n"
   ]
  },
  {
   "cell_type": "code",
   "execution_count": 9,
   "metadata": {},
   "outputs": [
    {
     "name": "stdout",
     "output_type": "stream",
     "text": [
      "Size(width=3000, height=2000)\n",
      "Point(x=1672, y=1501)\n"
     ]
    }
   ],
   "source": [
    "# import pyautogui\n",
    "# import time\n",
    "\n",
    "# #답안복사 위치 출력\n",
    "# time.sleep(5)\n",
    "# print(pyautogui.size()) \n",
    "# print(pyautogui.position()) #마우스 위치 출력\n",
    "\n",
    "# #Size(width=3000, height=2000)\n",
    "# #Point(x=1672, y=1501)"
   ]
  },
  {
   "cell_type": "code",
   "execution_count": 2,
   "metadata": {},
   "outputs": [],
   "source": [
    "# pyautogui.moveTo(100, 100) #절대 위치\n",
    "# pyautogui.moveTo(100, 100) #상대 위치"
   ]
  },
  {
   "cell_type": "code",
   "execution_count": null,
   "metadata": {},
   "outputs": [],
   "source": [
    "# pyautogui.leftclick(100, 100, 3, 3) #100,100 에서 왼쪽 클릭을 3번 3초간 수행\n",
    "# pyautogui.scroll(-500) #스크롤 다운, 업 일경우는 양수"
   ]
  },
  {
   "cell_type": "code",
   "execution_count": null,
   "metadata": {},
   "outputs": [],
   "source": [
    "# pyautogui.mouseUp(100, 100, button=\"left\") #드래그 하는 역할\n",
    "# pyautogui.mouseDown(100, 100, button=\"left\")"
   ]
  }
 ],
 "metadata": {
  "kernelspec": {
   "display_name": "base",
   "language": "python",
   "name": "python3"
  },
  "language_info": {
   "codemirror_mode": {
    "name": "ipython",
    "version": 3
   },
   "file_extension": ".py",
   "mimetype": "text/x-python",
   "name": "python",
   "nbconvert_exporter": "python",
   "pygments_lexer": "ipython3",
   "version": "3.12.3"
  }
 },
 "nbformat": 4,
 "nbformat_minor": 2
}
