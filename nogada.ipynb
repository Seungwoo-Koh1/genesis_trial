import numpy as np
import cv2
import os
from pdf2image import convert_from_path

# 수능완성 페이지 트림 (좌, 우 반 페이지 분리)
def imtrim(page):
    x = 300
    w = 1120
    left = page[465:, x:x+w]
    x = 1480
    right = page[465:, x:x+w]
    return right, left

# 반 페이지에서 문제 영역을 크롭하고 저장
def contour(page_rl, save_path):
    # 이미지를 흑백으로 변환
    imgray = cv2.cvtColor(page_rl, cv2.COLOR_BGR2GRAY) 

    # 이미지 이진화 (스캔본처럼)
    blur = cv2.GaussianBlur(imgray, ksize=(3,3), sigmaX=0)
    thresh = cv2.threshold(blur, 0, 255, cv2.THRESH_BINARY + cv2.THRESH_OTSU)[1]

    # 에지 감지 및 모폴로지 처리
    edge = cv2.Canny(imgray, 100, 200)
    kernel = cv2.getStructuringElement(cv2.MORPH_RECT, (1000, 100))
    closed = cv2.morphologyEx(edge, cv2.MORPH_CLOSE, kernel)

    contours, hierarchy = cv2.findContours(closed.copy(), cv2.RETR_TREE, cv2.CHAIN_APPROX_SIMPLE)

    problem_counter = 0  # 문제 번호를 추적하는 변수

    # 각 컨투어를 기반으로 문제 영역 크롭
    for c in contours:
        # 폐곡선 바운딩 박스 계산
        x, y, w, h = cv2.boundingRect(c)

        # 바운딩 박스를 기준으로 문제 크롭 (크기와 위치를 기준으로 필터링)
        if w > 100 and h > 50:  # 가짜 영역을 제외하기 위한 최소 크기 필터
            img_trim = page_rl[y:y+h, x:x+w]

            # 문제 이미지를 저장 (동적으로 파일 이름 생성)
            img_name = os.path.join(save_path, f"problem_{problem_counter}.png")
            cv2.imwrite(img_name, img_trim)
            print(f"문제 {problem_counter} 저장: {img_name}")
            problem_counter += 1

# PDF 파일을 이미지로 변환 후, 문제 크롭 실행
def problem_crop_from_pdf(pdf_path, save_path):
    # PDF 파일을 이미지로 변환
    pages = convert_from_path(pdf_path, dpi=300)

    # 저장할 폴더가 없으면 생성
    if not os.path.exists(save_path):
        os.makedirs(save_path)

    # 각 페이지에 대해 처리
    for page_num, page in enumerate(pages):
        # 페이지 이미지를 저장할 파일 경로
        page_image_path = os.path.join(save_path, f"page_{page_num + 1}.png")
        
        # 페이지 이미지를 파일로 저장
        page.save(page_image_path, 'PNG')
        print(f"페이지 {page_num + 1} 이미지 저장: {page_image_path}")

        # 저장된 이미지를 읽어서 문제 크롭 작업 실행
        image = cv2.imread(page_image_path)

        # 한 페이지를 좌, 우 반 페이지로 나누기
        right, left = imtrim(image)

        # 각 반 페이지에서 문제 크롭 진행 및 저장
        contour(right, save_path)
        contour(left, save_path)

# 실행 부분
if __name__ == "__main__":
    # PDF 파일 경로와 저장할 폴더 경로 설정
    pdf_path = "C:/Users/softgear/Desktop/sample.pdf"  # 처리할 PDF 파일 경로
    save_path = "C:/Users/softgear/Desktop/cropped_problems"  # 크롭된 문제를 저장할 폴더 경로

    # 문제 크롭 실행
    problem_crop_from_pdf(pdf_path, save_path)
